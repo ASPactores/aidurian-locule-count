{
 "cells": [
  {
   "cell_type": "code",
   "execution_count": null,
   "metadata": {},
   "outputs": [],
   "source": [
    "import os\n",
    "\n",
    "HOME = os.getcwd()"
   ]
  },
  {
   "cell_type": "code",
   "execution_count": 13,
   "metadata": {},
   "outputs": [],
   "source": [
    "# Paremeters\n",
    "class YOLOv9Parameters:\n",
    "    BATCH_SIZE = 4\n",
    "    DATASET_DIRECTORY = f\"{HOME}/datasets/locule-4/data.yaml\"\n",
    "    EPOCH = 2\n",
    "    IMAGE_SIZE = 640\n",
    "    ITERATION = \"\""
   ]
  },
  {
   "cell_type": "code",
   "execution_count": null,
   "metadata": {},
   "outputs": [],
   "source": [
    "import os\n",
    "from roboflow import Roboflow\n",
    "\n",
    "api_key = os.getenv('API_KEY')\n",
    "workspace = os.getenv('WORKSPACE')\n",
    "project_name = os.getenv('PROJECT')\n",
    "project_version = os.getenv('PROJECT_VERSION')\n",
    "dataset_format = os.getenv('DATASET_FORMAT')\n",
    "\n",
    "dataset_path = os.path.join(HOME, 'dataset')\n",
    "\n",
    "if not os.path.exists(dataset_path) or not os.listdir(dataset_path):  # Only download if the folder is empty or doesn't exist\n",
    "    os.makedirs(dataset_path, exist_ok=True)\n",
    "    \n",
    "    os.chdir(dataset_path)\n",
    "\n",
    "    try:\n",
    "        rf = Roboflow(api_key=api_key)\n",
    "        project = rf.workspace(workspace).project(project_name)\n",
    "        version = project.version(project_version)\n",
    "        dataset = version.download(dataset_format)\n",
    "        print(f\"Dataset downloaded successfully in {dataset_path}\")\n",
    "    except Exception as e:\n",
    "        print(f\"Error downloading the dataset: {e}\")\n",
    "\n",
    "    os.chdir(HOME)\n",
    "else:\n",
    "    print(f\"Dataset directory already exists at {dataset_path}. Skipping download.\")\n",
    "\n",
    "os.chdir(HOME)"
   ]
  },
  {
   "cell_type": "code",
   "execution_count": null,
   "metadata": {},
   "outputs": [],
   "source": [
    "from ultralytics import YOLO\n",
    "\n",
    "\n",
    "# Build a YOLOv9c model from pretrained weight\n",
    "model = YOLO(\"yolov9e-seg.pt\")\n",
    "\n",
    "model.info()\n",
    "\n",
    "results = model.train(\n",
    "    data = YOLOv9Parameters.DATASET_DIRECTORY, \n",
    "    epochs = YOLOv9Parameters.EPOCH,\n",
    "    imgsz = YOLOv9Parameters.IMAGE_SIZE,\n",
    "    batch = YOLOv9Parameters.BATCH_SIZE,\n",
    "    cache = False\n",
    ")"
   ]
  },
  {
   "cell_type": "code",
   "execution_count": null,
   "metadata": {},
   "outputs": [],
   "source": [
    "# results = model(\"/datasets/test/images/538438_3_6_png.rf.d132bb8005508e0efcc9b77f89ca99bd.jpg\", save=True)\n",
    "results = model(\"datasets/valid/images/pic-36-_jpg.rf.13a668c4003681c4631508465eef5a9f.jpg\", save=True)\n",
    "\n",
    "print(results[0].tojson())"
   ]
  }
 ],
 "metadata": {
  "kernelspec": {
   "display_name": "Python 3 (ipykernel)",
   "language": "python",
   "name": "python3"
  },
  "language_info": {
   "codemirror_mode": {
    "name": "ipython",
    "version": 3
   },
   "file_extension": ".py",
   "mimetype": "text/x-python",
   "name": "python",
   "nbconvert_exporter": "python",
   "pygments_lexer": "ipython3",
   "version": "3.10.14"
  }
 },
 "nbformat": 4,
 "nbformat_minor": 4
}
