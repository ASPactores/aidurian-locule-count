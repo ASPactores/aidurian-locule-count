{
 "cells": [
  {
   "cell_type": "code",
   "execution_count": 1,
   "metadata": {},
   "outputs": [],
   "source": [
    "import os\n",
    "import sys\n",
    "import random\n",
    "import math\n",
    "import re\n",
    "\n",
    "import numpy as np\n",
    "import matplotlib\n",
    "import matplotlib.pyplot as plt\n",
    "\n",
    "from mrcnn.config import Config\n",
    "from mrcnn import model as modellib\n",
    "from mrcnn import visualize"
   ]
  },
  {
   "cell_type": "markdown",
   "metadata": {},
   "source": [
    "### Global Constants"
   ]
  },
  {
   "cell_type": "code",
   "execution_count": 3,
   "metadata": {},
   "outputs": [],
   "source": [
    "ROOT_DIR = os.path.abspath(\"./\")\n",
    "MODEL_DIR = os.path.join(ROOT_DIR, \"logs\")\n",
    "COCO_MODEL_PATH = os.path.join(ROOT_DIR, \"mask_rcnn_coco.h5\")"
   ]
  },
  {
   "cell_type": "markdown",
   "metadata": {},
   "source": [
    "### Configuring the Mask R-CNN Model for Durian Locule Counting\n",
    "\n",
    "Note: The BACKBONE can be changed either ResNet50, ResNet101."
   ]
  },
  {
   "cell_type": "code",
   "execution_count": null,
   "metadata": {
    "scrolled": true
   },
   "outputs": [],
   "source": [
    "class LoculesConfig(Config):\n",
    "    NAME = \"locules\"\n",
    "    BACKBONE = \"resnet50\"\n",
    "    IMAGES_PER_GPU = 1\n",
    "    NUM_CLASSES = 2 + 1\n",
    "    STEPS_PER_EPOCH = 100\n",
    "    DETECTION_MIN_CONFIDENCE = 0.9\n",
    "    IMAGE_RESIZE_MODE = \"square\"\n",
    "    IMAGE_MIN_DIM = 640\n",
    "    IMAGE_MAX_DIM = 640\n",
    "    \n",
    "    LEARNING_RATE = 0.001\n",
    "    LEARNING_MOMENTUM = 0.9\n",
    "    WEIGHT_DECAY = 0.0001\n",
    "\n",
    "config = LoculesConfig()\n",
    "config.display()\n",
    "    "
   ]
  },
  {
   "cell_type": "markdown",
   "metadata": {},
   "source": [
    "### Prepare the dataset which is in COCO format\n",
    "\n",
    "To download the dataset, it would be useful to invoke the `download_dataset.py` script which downloads the dataset from Roboflow. The dataset is in COCO format."
   ]
  },
  {
   "cell_type": "code",
   "execution_count": null,
   "metadata": {},
   "outputs": [],
   "source": [
    "from utils.custom_dataset import DurianLoculeDataset\n",
    "\n",
    "dataset_train = DurianLoculeDataset()\n",
    "dataset_train.load_data('./dataset/dataset/locule-4/train/_annotations.coco.json', './dataset/dataset/locule-4/train/')\n",
    "dataset_train.prepare()\n",
    "\n",
    "dataset_val = DurianLoculeDataset()\n",
    "dataset_val.load_data('./dataset/dataset/locule-4/valid/_annotations.coco.json', './dataset/dataset/locule-4/valid/')\n",
    "dataset_val.prepare()\n",
    "\n",
    "dataset = dataset_train\n",
    "image_ids = np.random.choice(dataset.image_ids, 4)\n",
    "for image_id in image_ids:\n",
    "    image = dataset.load_image(image_id)\n",
    "    mask, class_ids = dataset.load_mask(image_id)\n",
    "    visualize.display_top_masks(image, mask, class_ids, dataset.class_names)\n",
    "    \n",
    "dataset = dataset_val\n",
    "image_ids = np.random.choice(dataset.image_ids, 4)\n",
    "for image_id in image_ids:\n",
    "    image = dataset.load_image(image_id)\n",
    "    mask, class_ids = dataset.load_mask(image_id)\n",
    "    visualize.display_top_masks(image, mask, class_ids, dataset.class_names)"
   ]
  },
  {
   "cell_type": "markdown",
   "metadata": {},
   "source": [
    "### Load the weights of the Mask R-CNN model\n",
    "\n",
    "The weights of the Mask R-CNN model can be loaded from the `mask_rcnn_coco.h5` file. The weights are pre-trained on the COCO dataset."
   ]
  },
  {
   "cell_type": "code",
   "execution_count": 7,
   "metadata": {},
   "outputs": [],
   "source": [
    "# Create model in training mode\n",
    "model = modellib.MaskRCNN(mode=\"training\", config=config, model_dir=MODEL_DIR)\n",
    "\n",
    "# Train from coco checkpoint\n",
    "model.load_weights(COCO_MODEL_PATH, by_name=True, exclude=[\"mrcnn_class_logits\", \"mrcnn_bbox_fc\", \"mrcnn_bbox\", \"mrcnn_mask\"])"
   ]
  },
  {
   "cell_type": "markdown",
   "metadata": {},
   "source": [
    "### Training the Mask R-CNN model"
   ]
  },
  {
   "cell_type": "code",
   "execution_count": null,
   "metadata": {
    "scrolled": true
   },
   "outputs": [],
   "source": [
    "model.train(dataset_train, dataset_val, \n",
    "            learning_rate=config.LEARNING_RATE, \n",
    "            epochs=1, \n",
    "            layers='heads')"
   ]
  },
  {
   "cell_type": "markdown",
   "metadata": {},
   "source": [
    "## Performance Metrics which is used to evaluate the model:\n",
    "\n",
    "- mAP@0.5\n",
    "- mAP@0.75\n",
    "- mAP@0.5-0.95\n",
    "- mIoU"
   ]
  },
  {
   "cell_type": "code",
   "execution_count": null,
   "metadata": {},
   "outputs": [],
   "source": [
    "import os\n",
    "import re\n",
    "\n",
    "mask_rcnn_pattern = r'^mask_rcnn.*\\.h5$'\n",
    "home_dir = os.getcwd()\n",
    "\n",
    "# Get the first item in the MODEL_DIR\n",
    "latest_log_dir = os.listdir(MODEL_DIR)[1]  # Change to 0\n",
    "directory_content = os.listdir(os.path.join(MODEL_DIR, latest_log_dir))\n",
    "\n",
    "# Search for files matching the mask_rcnn pattern\n",
    "matching_files = [f for f in directory_content if re.search(mask_rcnn_pattern, f)]\n",
    "\n",
    "# Check if there are any matching files\n",
    "if matching_files:\n",
    "    latest_weight = matching_files[-1]\n",
    "    print(\"Latest matching file:\", latest_weight)\n",
    "\n",
    "    # Construct the full path to the latest weight file\n",
    "    latest_weight_dir = os.path.join(MODEL_DIR, latest_log_dir, latest_weight)\n",
    "    print(\"Latest weight file path:\", latest_weight_dir)\n",
    "else:\n",
    "    print(\"No matching files found.\")\n"
   ]
  },
  {
   "cell_type": "code",
   "execution_count": null,
   "metadata": {},
   "outputs": [],
   "source": [
    "from mrcnn.utils import compute_ap, compute_ap_range\n",
    "\n",
    "from utils.custom_dataset import DurianLoculeDataset\n",
    "\n",
    "TEST_DATASET_JSON = \"./dataset/dataset/locule-4/test/_annotations.coco.json\"\n",
    "TEST_DATASET_DIR = \"./dataset/dataset/locule-4/test/\"\n",
    "TRAINED_MODEL_WEIGHTS_PATH = latest_weight_dir\n",
    "\n",
    "dataset_test = DurianLoculeDataset()\n",
    "dataset_test.load_data(TEST_DATASET_JSON, TEST_DATASET_DIR)\n",
    "dataset_test.prepare()\n",
    "\n",
    "test_config = LoculesConfig()\n",
    "test_model = modellib.MaskRCNN(mode=\"inference\", config=test_config, model_dir=MODEL_DIR)\n",
    "test_model.load_weights(TRAINED_MODEL_WEIGHTS_PATH, by_name=True)"
   ]
  },
  {
   "cell_type": "code",
   "execution_count": null,
   "metadata": {},
   "outputs": [],
   "source": [
    "# Test Infer and show masks around the locules\n",
    "\n",
    "image_ids = np.random.choice(dataset_test.image_ids, 4)\n",
    "for image_id in image_ids:\n",
    "    image = dataset_test.load_image(image_id)\n",
    "    mask, class_ids = dataset_test.load_mask(image_id)\n",
    "    original_image, image_meta, gt_class_id, gt_bbox, gt_mask =\\\n",
    "        modellib.load_image_gt(dataset_test, test_config, image_id)\n",
    "    \n",
    "    visualize.display_instances(original_image, gt_bbox, gt_mask, gt_class_id, dataset_test.class_names, figsize=(8, 8))\n",
    "    results = test_model.detect([image], verbose=1)\n",
    "    r = results[0]\n",
    "    visualize.display_instances(image, r['rois'], r['masks'], r['class_ids'], dataset_test.class_names, r['scores'])\n",
    "    \n",
    "# Compute mAP\n"
   ]
  },
  {
   "cell_type": "code",
   "execution_count": null,
   "metadata": {},
   "outputs": [],
   "source": [
    "import pandas as pd\n",
    "from utils.performance_metric import compute_performance_metrics, display_bounding_boxes\n",
    "\n",
    "# Usage\n",
    "image_ids = dataset_test.image_ids\n",
    "metrics = compute_performance_metrics(image_ids=image_ids, test_model=test_model, dataset_test=dataset_test, test_config=test_config)\n",
    "\n",
    "# Display metrics as a Pandas DataFrame\n",
    "metrics_df = pd.DataFrame(metrics)\n",
    "print(metrics_df)\n",
    "\n",
    "\n",
    "print(\"mAP @ IoU=50:\", metrics[\"AP_50\"])\n",
    "print(\"mAP @ IoU=75:\", metrics[\"AP_75\"])\n",
    "print(\"Mean mAP:\", metrics[\"mAP\"])\n",
    "print(\"Mean IoU:\", metrics[\"IOUs\"])\n",
    "\n",
    "# Display bounding boxes\n",
    "display_bounding_boxes(metrics[\"image_data\"])\n"
   ]
  },
  {
   "cell_type": "code",
   "execution_count": null,
   "metadata": {},
   "outputs": [],
   "source": []
  },
  {
   "cell_type": "code",
   "execution_count": null,
   "metadata": {},
   "outputs": [],
   "source": [
    "# Export the model to tflite\n",
    "import tensorflow as tf\n",
    "from mrcnn import utils\n",
    "from mrcnn import model as modellib\n",
    "\n",
    "# Set the path to the .h5 file of the model to be converted\n",
    "\n",
    "# test_model = tf.keras.models.load_model(TRAINED_MODEL_WEIGHTS_PATH)\n",
    "test_model = modellib.MaskRCNN(mode=\"inference\", config=test_config, model_dir=MODEL_DIR)\n",
    "model.load_weights(TRAINED_MODEL_WEIGHTS_PATH, by_name=True)\n",
    "model.keras_model.save(\"mask_rcnn_locules\", save_format='tf')\n",
    "\n",
    "# converter = tf.lite.TFLiteConverter.from_keras_model(test_model)\n",
    "# converter.allow_custom_ops = True\n",
    "# converter.experimental_new_converter = True\n",
    "# converter.target_spec.supported_ops = [\n",
    "#     tf.lite.OpsSet.TFLITE_BUILTINS, # enable TensorFlow Lite ops.\n",
    "#     tf.lite.OpsSet.SELECT_TF_OPS # enable TensorFlow ops.\n",
    "# ]\n",
    "\n",
    "# converter.optimizations = [ tf.lite.Optimize.DEFAULT ]\n",
    "\n",
    "# tflite_model = converter.convert()\n"
   ]
  },
  {
   "cell_type": "code",
   "execution_count": 21,
   "metadata": {},
   "outputs": [],
   "source": [
    "import json\n",
    "\n",
    "def save_model(trained_model, out_fname=\"model.json\"):\n",
    "    jsonObj = trained_model.keras_model.to_json()\n",
    "    with open(out_fname, \"w\") as fh:\n",
    "        fh.write(jsonObj)\n",
    " \n",
    " \n",
    "test_model = modellib.MaskRCNN(mode=\"inference\", config=test_config, model_dir=MODEL_DIR)\n",
    "save_model(test_model, \"mymodel.json\")"
   ]
  },
  {
   "cell_type": "code",
   "execution_count": null,
   "metadata": {},
   "outputs": [],
   "source": [
    "with open('mymodel.json', 'r') as json_file:\n",
    "    loaded_model_json = json_file.read()\n",
    "loaded_model = tf.keras.models.model_from_json(loaded_model_json)"
   ]
  },
  {
   "cell_type": "code",
   "execution_count": null,
   "metadata": {},
   "outputs": [],
   "source": [
    "open(\"model.tflite\", \"wb\").write(tflite_model)"
   ]
  }
 ],
 "metadata": {
  "kernelspec": {
   "display_name": "Python 3",
   "language": "python",
   "name": "python3"
  }
 },
 "nbformat": 4,
 "nbformat_minor": 4
}
